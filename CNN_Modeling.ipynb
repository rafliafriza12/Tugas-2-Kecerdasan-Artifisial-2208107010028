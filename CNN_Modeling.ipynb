{
 "cells": [
  {
   "cell_type": "markdown",
   "id": "750ea9e2-5da2-49ec-94c4-3700fea98f7b",
   "metadata": {},
   "source": [
    "# Klasifikasi Gambar Menggunakan Neural Network pada Dataset CIFAR-10\n",
    "\n",
    "Dalam notebook ini, kita akan membangun model neural network untuk klasifikasi gambar menggunakan dataset CIFAR-10. Kita akan melewati langkah-langkah berikut:\n",
    "1. Mempersiapkan Dataset\n",
    "2. Membangun Model\n",
    "3. Melatih Model\n",
    "4. Evaluasi Model\n",
    "5. Menyimpan Model"
   ]
  },
  {
   "cell_type": "code",
   "execution_count": null,
   "id": "3df650df-68d6-4d6d-8908-fc4477b24a5c",
   "metadata": {},
   "outputs": [],
   "source": [
    "# Import library yang diperlukan\n",
    "import tensorflow as tf\n",
    "from tensorflow.keras import layers, models\n",
    "from tensorflow.keras.datasets import cifar10\n",
    "import matplotlib.pyplot as plt"
   ]
  },
  {
   "cell_type": "markdown",
   "id": "c177215c-5df7-4d13-8085-7d5e53ef6175",
   "metadata": {},
   "source": [
    "## 1. Mempersiapkan Dataset\n",
    "\n",
    "Kita akan mengunduh dataset CIFAR-10 dan melakukan normalisasi pada data gambar."
   ]
  },
  {
   "cell_type": "code",
   "execution_count": 6,
   "id": "15c1bafd-ed02-4bd2-b45e-60bc99871418",
   "metadata": {},
   "outputs": [],
   "source": [
    "# Mempersiapkan Dataset\n",
    "(x_train, y_train), (x_test, y_test) = cifar10.load_data()\n",
    "x_train = x_train.astype('float32') / 255.0\n",
    "x_test = x_test.astype('float32') / 255.0"
   ]
  },
  {
   "cell_type": "markdown",
   "id": "ec52e595-8edf-4646-b40b-03f7415046e4",
   "metadata": {},
   "source": [
    "## 2. Membangun Model\n",
    "\n",
    "Model yang kita buat adalah Convolutional Neural Network (CNN) dengan beberapa lapisan konvolusi dan pooling."
   ]
  },
  {
   "cell_type": "code",
   "execution_count": 7,
   "id": "e0ebf77e-48c8-4ded-8eab-dbc162385f5f",
   "metadata": {},
   "outputs": [
    {
     "name": "stderr",
     "output_type": "stream",
     "text": [
      "2024-11-20 14:59:15.856128: W tensorflow/core/common_runtime/gpu/gpu_device.cc:1960] Cannot dlopen some GPU libraries. Please make sure the missing libraries mentioned above are installed properly if you would like to use GPU. Follow the guide at https://www.tensorflow.org/install/gpu for how to download and setup the required libraries for your platform.\n",
      "Skipping registering GPU devices...\n"
     ]
    }
   ],
   "source": [
    "# Membangun Model\n",
    "model = models.Sequential([\n",
    "    layers.Conv2D(32, (3, 3), activation='relu', input_shape=(32, 32, 3)),\n",
    "    layers.MaxPooling2D((2, 2)),\n",
    "    layers.Conv2D(64, (3, 3), activation='relu'),\n",
    "    layers.MaxPooling2D((2, 2)),\n",
    "    layers.Conv2D(64, (3, 3), activation='relu'),\n",
    "    layers.Flatten(),\n",
    "    layers.Dense(64, activation='relu'),\n",
    "    layers.Dense(10, activation='softmax')\n",
    "])"
   ]
  },
  {
   "cell_type": "markdown",
   "id": "2d87ec3a-fa72-4b62-b750-e0bb4a0ee968",
   "metadata": {},
   "source": [
    "## 3. Kompilasi Model\n",
    "\n",
    "Model perlu dikompilasi sebelum dilatih. Kita menggunakan Adam sebagai optimizer dan sparse categorical crossentropy sebagai loss function."
   ]
  },
  {
   "cell_type": "code",
   "execution_count": 8,
   "id": "d4e83753-c1e7-4da9-9154-34376d15f235",
   "metadata": {},
   "outputs": [],
   "source": [
    "# Kompilasi Model\n",
    "model.compile(optimizer='adam',\n",
    "              loss='sparse_categorical_crossentropy',\n",
    "              metrics=['accuracy'])"
   ]
  },
  {
   "cell_type": "markdown",
   "id": "37e10bbb-52d8-4749-bc08-14a7c2d80fd6",
   "metadata": {},
   "source": [
    "## 4. Melatih Model\n",
    "\n",
    "Model akan dilatih menggunakan data pelatihan dan divalidasi menggunakan data pengujian. Kita akan melatih model selama 10 epoch."
   ]
  },
  {
   "cell_type": "code",
   "execution_count": 9,
   "id": "e1f3360d-d176-462f-81be-2abefc296a21",
   "metadata": {},
   "outputs": [
    {
     "name": "stdout",
     "output_type": "stream",
     "text": [
      "Epoch 1/30\n",
      "1563/1563 [==============================] - 18s 11ms/step - loss: 1.5245 - accuracy: 0.4395 - val_loss: 1.2210 - val_accuracy: 0.5605\n",
      "Epoch 2/30\n",
      "1563/1563 [==============================] - 17s 11ms/step - loss: 1.1291 - accuracy: 0.5996 - val_loss: 1.0389 - val_accuracy: 0.6297\n",
      "Epoch 3/30\n",
      "1563/1563 [==============================] - 17s 11ms/step - loss: 0.9695 - accuracy: 0.6585 - val_loss: 0.9375 - val_accuracy: 0.6749\n",
      "Epoch 4/30\n",
      "1563/1563 [==============================] - 17s 11ms/step - loss: 0.8753 - accuracy: 0.6926 - val_loss: 0.9181 - val_accuracy: 0.6790\n",
      "Epoch 5/30\n",
      "1563/1563 [==============================] - 17s 11ms/step - loss: 0.8003 - accuracy: 0.7209 - val_loss: 0.8888 - val_accuracy: 0.6958\n",
      "Epoch 6/30\n",
      "1563/1563 [==============================] - 17s 11ms/step - loss: 0.7482 - accuracy: 0.7372 - val_loss: 0.8958 - val_accuracy: 0.6912\n",
      "Epoch 7/30\n",
      "1563/1563 [==============================] - 17s 11ms/step - loss: 0.6991 - accuracy: 0.7541 - val_loss: 0.8752 - val_accuracy: 0.7046\n",
      "Epoch 8/30\n",
      "1563/1563 [==============================] - 17s 11ms/step - loss: 0.6545 - accuracy: 0.7713 - val_loss: 0.8494 - val_accuracy: 0.7120\n",
      "Epoch 9/30\n",
      "1563/1563 [==============================] - 17s 11ms/step - loss: 0.6194 - accuracy: 0.7797 - val_loss: 0.8567 - val_accuracy: 0.7094\n",
      "Epoch 10/30\n",
      "1563/1563 [==============================] - 17s 11ms/step - loss: 0.5806 - accuracy: 0.7963 - val_loss: 0.8727 - val_accuracy: 0.7116\n",
      "Epoch 11/30\n",
      "1563/1563 [==============================] - 17s 11ms/step - loss: 0.5465 - accuracy: 0.8074 - val_loss: 0.9272 - val_accuracy: 0.7055\n",
      "Epoch 12/30\n",
      "1563/1563 [==============================] - 17s 11ms/step - loss: 0.5170 - accuracy: 0.8159 - val_loss: 0.9165 - val_accuracy: 0.7103\n",
      "Epoch 13/30\n",
      "1563/1563 [==============================] - 17s 11ms/step - loss: 0.4879 - accuracy: 0.8277 - val_loss: 0.9203 - val_accuracy: 0.7118\n",
      "Epoch 14/30\n",
      "1563/1563 [==============================] - 16s 10ms/step - loss: 0.4531 - accuracy: 0.8382 - val_loss: 0.9991 - val_accuracy: 0.6980\n",
      "Epoch 15/30\n",
      "1563/1563 [==============================] - 16s 11ms/step - loss: 0.4296 - accuracy: 0.8474 - val_loss: 1.0001 - val_accuracy: 0.7065\n",
      "Epoch 16/30\n",
      "1563/1563 [==============================] - 17s 11ms/step - loss: 0.3961 - accuracy: 0.8597 - val_loss: 1.0224 - val_accuracy: 0.7064\n",
      "Epoch 17/30\n",
      "1563/1563 [==============================] - 17s 11ms/step - loss: 0.3720 - accuracy: 0.8675 - val_loss: 1.0652 - val_accuracy: 0.7124\n",
      "Epoch 18/30\n",
      "1563/1563 [==============================] - 17s 11ms/step - loss: 0.3496 - accuracy: 0.8743 - val_loss: 1.1606 - val_accuracy: 0.6943\n",
      "Epoch 19/30\n",
      "1563/1563 [==============================] - 17s 11ms/step - loss: 0.3257 - accuracy: 0.8842 - val_loss: 1.1914 - val_accuracy: 0.6972\n",
      "Epoch 20/30\n",
      "1563/1563 [==============================] - 17s 11ms/step - loss: 0.3039 - accuracy: 0.8915 - val_loss: 1.2356 - val_accuracy: 0.6992\n",
      "Epoch 21/30\n",
      "1563/1563 [==============================] - 17s 11ms/step - loss: 0.2886 - accuracy: 0.8961 - val_loss: 1.2651 - val_accuracy: 0.6985\n",
      "Epoch 22/30\n",
      "1563/1563 [==============================] - 17s 11ms/step - loss: 0.2641 - accuracy: 0.9063 - val_loss: 1.4076 - val_accuracy: 0.6899\n",
      "Epoch 23/30\n",
      "1563/1563 [==============================] - 17s 11ms/step - loss: 0.2527 - accuracy: 0.9095 - val_loss: 1.4180 - val_accuracy: 0.6793\n",
      "Epoch 24/30\n",
      "1563/1563 [==============================] - 17s 11ms/step - loss: 0.2367 - accuracy: 0.9146 - val_loss: 1.4106 - val_accuracy: 0.6896\n",
      "Epoch 25/30\n",
      "1563/1563 [==============================] - 17s 11ms/step - loss: 0.2218 - accuracy: 0.9195 - val_loss: 1.5199 - val_accuracy: 0.6961\n",
      "Epoch 26/30\n",
      "1563/1563 [==============================] - 17s 11ms/step - loss: 0.2121 - accuracy: 0.9226 - val_loss: 1.5322 - val_accuracy: 0.6913\n",
      "Epoch 27/30\n",
      "1563/1563 [==============================] - 17s 11ms/step - loss: 0.2029 - accuracy: 0.9274 - val_loss: 1.7031 - val_accuracy: 0.6811\n",
      "Epoch 28/30\n",
      "1563/1563 [==============================] - 17s 11ms/step - loss: 0.1905 - accuracy: 0.9318 - val_loss: 1.7077 - val_accuracy: 0.6912\n",
      "Epoch 29/30\n",
      "1563/1563 [==============================] - 17s 11ms/step - loss: 0.1828 - accuracy: 0.9352 - val_loss: 1.7789 - val_accuracy: 0.6822\n",
      "Epoch 30/30\n",
      "1563/1563 [==============================] - 17s 11ms/step - loss: 0.1765 - accuracy: 0.9377 - val_loss: 1.7732 - val_accuracy: 0.6876\n"
     ]
    }
   ],
   "source": [
    "# Melatih Model\n",
    "history = model.fit(x_train, y_train, epochs=30, validation_data=(x_test, y_test))"
   ]
  },
  {
   "cell_type": "markdown",
   "id": "8da2a50d-057f-4079-ba29-470325d7fdde",
   "metadata": {},
   "source": [
    "## 5. Evaluasi Model\n",
    "\n",
    "Setelah pelatihan, kita akan mengevaluasi model menggunakan data pengujian untuk melihat akurasinya."
   ]
  },
  {
   "cell_type": "code",
   "execution_count": 17,
   "id": "af64c4a4-3308-4fae-bde1-2316488972fa",
   "metadata": {},
   "outputs": [
    {
     "name": "stdout",
     "output_type": "stream",
     "text": [
      "313/313 - 1s - loss: 1.6997 - accuracy: 0.6923 - 1s/epoch - 4ms/step\n",
      "\n",
      "Test accuracy: 0.692300021648407\n"
     ]
    }
   ],
   "source": [
    "# Evaluasi Model\n",
    "test_loss, test_acc = model.evaluate(x_test, y_test, verbose=2)\n",
    "print(f'\\nTest accuracy: {test_acc}')"
   ]
  },
  {
   "cell_type": "markdown",
   "id": "e80fb162-ee8d-47b3-a911-fd288daa0250",
   "metadata": {},
   "source": [
    "## 6. Plot Akurasi\n",
    "\n",
    "Kita akan memplot akurasi pelatihan dan validasi untuk menganalisis performa model."
   ]
  },
  {
   "cell_type": "code",
   "execution_count": 18,
   "id": "d4e80f06-6f78-473d-ba9a-44610fbb909e",
   "metadata": {},
   "outputs": [
    {
     "data": {
      "image/png": "[encoded data removed]",
      "text/plain": [
       "<Figure size 640x480 with 1 Axes>"
      ]
     },
     "metadata": {},
     "output_type": "display_data"
    }
   ],
   "source": [
    "# Plot Akurasi\n",
    "plt.plot(history.history['accuracy'], label='Akurasi Pelatihan')\n",
    "plt.plot(history.history['val_accuracy'], label='Akurasi Validasi')\n",
    "plt.xlabel('Epoch')\n",
    "plt.ylabel('Akurasi')\n",
    "plt.legend()\n",
    "plt.show()"
   ]
  },
  {
   "cell_type": "markdown",
   "id": "be83b979-fe61-4d3f-83af-16c08f307da0",
   "metadata": {},
   "source": [
    "## 7. Summary model\n",
    "\n",
    "## Menampilkan Ringkasan Model\n",
    "\n",
    "Setelah kita membangun model, langkah selanjutnya adalah melihat ringkasan dari arsitektur model tersebut. Ini berguna untuk memahami jumlah parameter, struktur lapisan, dan bagaimana data mengalir melalui model.\n",
    "\n",
    "Kita dapat menggunakan metode `summary()` untuk menampilkan informasi berikut:\n",
    "- **Layer (Jenis Lapisan)**: Menunjukkan jenis lapisan dalam model, seperti Conv2D, MaxPooling2D, dan Dense.\n",
    "- **Output Shape**: Menunjukkan bentuk output dari setiap lapisan.\n",
    "- **Param #**: Menunjukkan jumlah parameter yang dapat dilatih dalam setiap lapisan, termasuk bobot dan bias.\n",
    "\n",
    "Berikut adalah contoh output dari `model.summary()`:"
   ]
  },
  {
   "cell_type": "code",
   "execution_count": 20,
   "id": "c809b17a-cb91-4a88-8a8f-0756339bdb41",
   "metadata": {},
   "outputs": [
    {
     "name": "stdout",
     "output_type": "stream",
     "text": [
      "Model: \"sequential_1\"\n",
      "_________________________________________________________________\n",
      " Layer (type)                Output Shape              Param #   \n",
      "=================================================================\n",
      " conv2d_3 (Conv2D)           (None, 30, 30, 32)        896       \n",
      "                                                                 \n",
      " max_pooling2d_2 (MaxPoolin  (None, 15, 15, 32)        0         \n",
      " g2D)                                                            \n",
      "                                                                 \n",
      " conv2d_4 (Conv2D)           (None, 13, 13, 64)        18496     \n",
      "                                                                 \n",
      " max_pooling2d_3 (MaxPoolin  (None, 6, 6, 64)          0         \n",
      " g2D)                                                            \n",
      "                                                                 \n",
      " conv2d_5 (Conv2D)           (None, 4, 4, 64)          36928     \n",
      "                                                                 \n",
      " flatten_1 (Flatten)         (None, 1024)              0         \n",
      "                                                                 \n",
      " dense_2 (Dense)             (None, 64)                65600     \n",
      "                                                                 \n",
      " dense_3 (Dense)             (None, 10)                650       \n",
      "                                                                 \n",
      "=================================================================\n",
      "Total params: 122570 (478.79 KB)\n",
      "Trainable params: 122570 (478.79 KB)\n",
      "Non-trainable params: 0 (0.00 Byte)\n",
      "_________________________________________________________________\n"
     ]
    }
   ],
   "source": [
    "model.summary()"
   ]
  },
  {
   "cell_type": "markdown",
   "id": "508786a7-6ba4-4470-bf47-14172f6add65",
   "metadata": {},
   "source": [
    "## 8. Simpan Model\n",
    "\n",
    "Setelah model dilatih dan dievaluasi, kita akan menyimpan model untuk digunakan di lain waktu."
   ]
  },
  {
   "cell_type": "code",
   "execution_count": 19,
   "id": "3c34baba-987a-4b40-aa25-6ece3bba4b39",
   "metadata": {},
   "outputs": [
    {
     "name": "stderr",
     "output_type": "stream",
     "text": [
      "/experiment/alim/tugas-akhir/Alim-AI/env3.8-tf/lib/python3.8/site-packages/keras/src/engine/training.py:3000: UserWarning: You are saving your model as an HDF5 file via `model.save()`. This file format is considered legacy. We recommend using instead the native Keras format, e.g. `model.save('my_model.keras')`.\n",
      "  saving_api.save_model(\n"
     ]
    }
   ],
   "source": [
    "# Simpan Model\n",
    "model.save('cifar10_model.h5')"
   ]
  }
 ],
 "metadata": {
  "kernelspec": {
   "display_name": "Python 3 (ipykernel)",
   "language": "python",
   "name": "python3"
  },
  "language_info": {
   "codemirror_mode": {
    "name": "ipython",
    "version": 3
   },
   "file_extension": ".py",
   "mimetype": "text/x-python",
   "name": "python",
   "nbconvert_exporter": "python",
   "pygments_lexer": "ipython3",
   "version": "3.8.10"
  }
 },
 "nbformat": 4,
 "nbformat_minor": 5
}
